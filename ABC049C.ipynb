{
 "cells": [
  {
   "cell_type": "markdown",
   "id": "42abd628",
   "metadata": {},
   "source": [
    "# 問題の概要"
   ]
  },
  {
   "cell_type": "markdown",
   "id": "2842bc80",
   "metadata": {},
   "source": [
    "erase, eraser, dream, dreamerのみを構成要素として文字列Sを分割可能ならばYESと出力し、そうでないならNOと出力するプログラム"
   ]
  },
  {
   "cell_type": "code",
   "execution_count": 5,
   "id": "6b3099f4",
   "metadata": {},
   "outputs": [],
   "source": [
    "import re"
   ]
  },
  {
   "cell_type": "code",
   "execution_count": 36,
   "id": "457e3154",
   "metadata": {},
   "outputs": [],
   "source": [
    "S = input()"
   ]
  },
  {
   "cell_type": "code",
   "execution_count": 37,
   "id": "743a9837",
   "metadata": {},
   "outputs": [
    {
     "data": {
      "text/plain": [
       "'erasedream'"
      ]
     },
     "execution_count": 37,
     "metadata": {},
     "output_type": "execute_result"
    }
   ],
   "source": [
    "S"
   ]
  },
  {
   "cell_type": "code",
   "execution_count": 38,
   "id": "b1e386e3",
   "metadata": {},
   "outputs": [],
   "source": [
    "words_list = ['erase','eraser','dream','dreamer']"
   ]
  },
  {
   "cell_type": "markdown",
   "id": "1fc74e7d",
   "metadata": {},
   "source": [
    "正規表現を用いる(re)  \n",
    "matchは先頭から完全に一致する必要がある  \n",
    "searchは存在するだけでヒットする\n",
    "\n",
    "今回はmatchを用いて、先頭から消していくことによってS=Tとなりうるかを判定していく\n",
    "\n"
   ]
  },
  {
   "cell_type": "code",
   "execution_count": 39,
   "id": "7fe8a49a",
   "metadata": {},
   "outputs": [
    {
     "name": "stdout",
     "output_type": "stream",
     "text": [
      "<re.Match object; span=(0, 5), match='erase'>\n"
     ]
    }
   ],
   "source": [
    "word = words_list[0]\n",
    "match_result = re.match(word,S)\n",
    "print(match_result)"
   ]
  },
  {
   "cell_type": "code",
   "execution_count": 48,
   "id": "c8f532af",
   "metadata": {},
   "outputs": [
    {
     "name": "stdout",
     "output_type": "stream",
     "text": [
      "tch\n"
     ]
    }
   ],
   "source": [
    "\n",
    "if match_result:\n",
    "    # 一致した文字列を削除してSを更新\n",
    "    S = str(S[len(word):])\n",
    "    print(S)"
   ]
  },
  {
   "cell_type": "markdown",
   "id": "4ba39c38",
   "metadata": {},
   "source": [
    "まとめると以下のような感じ"
   ]
  },
  {
   "cell_type": "code",
   "execution_count": null,
   "id": "b2361cf1",
   "metadata": {},
   "outputs": [
    {
     "name": "stdout",
     "output_type": "stream",
     "text": [
      "['erase', 'dream', 'eraser', 'dreamer']\n",
      "['erase', 'dream', 'eraser', 'dreamer']\n",
      "['erase', 'dream', 'eraser', 'dreamer']\n",
      "['erase', 'dream', 'eraser', 'dreamer']\n",
      "['erase', 'dream', 'eraser', 'dreamer']\n",
      "NO\n"
     ]
    }
   ],
   "source": [
    "import re\n",
    "\n",
    "S = input()\n",
    "words_list = ['eraser','erase','dream','dreamer']\n",
    "\n",
    "def word_match(S, words_list):\n",
    "    for word in words_list:\n",
    "        match_result = re.match(word, S)\n",
    "        if match_result:\n",
    "            S = str(S[len(word):])\n",
    "            return S\n",
    "\n",
    "    return 'No match'\n",
    "\n",
    "while len(S)!=0:\n",
    "    S = word_match(S, words_list)\n",
    "    if S == 'No match':\n",
    "        print(\"NO\")\n",
    "        break\n",
    "    if len(S)==0:\n",
    "        print('YES')\n"
   ]
  },
  {
   "cell_type": "markdown",
   "id": "3af98318",
   "metadata": {},
   "source": [
    "この考えだと、dreameraseのような曖昧なものの一致が難しいことに気づいた。そこで、reを使わずに、後ろから文字列をスライスして一致するか確認していく方式に変更する。"
   ]
  },
  {
   "cell_type": "code",
   "execution_count": 68,
   "id": "141378d5",
   "metadata": {},
   "outputs": [],
   "source": [
    "def word_match(S, words_list):\n",
    "    for word in words_list:\n",
    "        target = S[len(S)-len(word):]\n",
    "        if target==word:\n",
    "            S = S[:len(S)-len(word)]\n",
    "            return S\n",
    "    return 'No match'\n"
   ]
  },
  {
   "cell_type": "markdown",
   "id": "d23be816",
   "metadata": {},
   "source": [
    "## 自分の回答"
   ]
  },
  {
   "cell_type": "code",
   "execution_count": null,
   "id": "81aa5655",
   "metadata": {},
   "outputs": [
    {
     "name": "stdout",
     "output_type": "stream",
     "text": [
      "mdream\n",
      "dream\n",
      "dream\n",
      "m\n",
      "dream\n",
      "dream\n",
      "YES\n"
     ]
    }
   ],
   "source": [
    "S = input()\n",
    "words_list = ['eraser','erase','dream','dreamer']\n",
    "\n",
    "def word_match(S, words_list):\n",
    "    for word in words_list:\n",
    "        target = S[len(S)-len(word):]\n",
    "        if target==word:\n",
    "            S = S[:len(S)-len(word)]\n",
    "            return S\n",
    "    return 'No match'\n",
    "\n",
    "\n",
    "while len(S)!=0:\n",
    "    S = word_match(S, words_list)\n",
    "    if S == 'No match':\n",
    "        print(\"NO\")\n",
    "        break\n",
    "    if len(S)==0:\n",
    "        print('YES')"
   ]
  },
  {
   "cell_type": "markdown",
   "id": "64775984",
   "metadata": {},
   "source": [
    "## 学び"
   ]
  },
  {
   "cell_type": "markdown",
   "id": "a79b6acd",
   "metadata": {},
   "source": [
    "文字列一致は曖昧なものに注意。  \n",
    "後ろから一致させる方が効果的な場合がある。  \n",
    "逆に後ろからだと曖昧ば場合も同様にあるかも. \n"
   ]
  },
  {
   "cell_type": "markdown",
   "id": "e10d50c3",
   "metadata": {},
   "source": [
    "## 他の解法"
   ]
  },
  {
   "cell_type": "code",
   "execution_count": null,
   "id": "93cdd7c3",
   "metadata": {},
   "outputs": [
    {
     "name": "stdout",
     "output_type": "stream",
     "text": [
      "YES\n"
     ]
    }
   ],
   "source": [
    "import re\n",
    "\n",
    "S = input()\n",
    "if re.fullmatch(r'(dream|dreamer|erase|eraser)*', S):\n",
    "    # (dream|dreamer|erase|eraser)* -> 4単語の任意この繰り返しを正規表現で表す\n",
    "    print(\"YES\")\n",
    "else:\n",
    "    print(\"NO\")"
   ]
  }
 ],
 "metadata": {
  "kernelspec": {
   "display_name": "3.11.9",
   "language": "python",
   "name": "python3"
  },
  "language_info": {
   "codemirror_mode": {
    "name": "ipython",
    "version": 3
   },
   "file_extension": ".py",
   "mimetype": "text/x-python",
   "name": "python",
   "nbconvert_exporter": "python",
   "pygments_lexer": "ipython3",
   "version": "3.11.9"
  }
 },
 "nbformat": 4,
 "nbformat_minor": 5
}
