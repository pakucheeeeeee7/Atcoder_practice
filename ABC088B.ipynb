{
 "cells": [
  {
   "cell_type": "markdown",
   "id": "a49e9cb9",
   "metadata": {},
   "source": [
    "# 問題の概要\n",
    "与えられた数列の中から順に最大値を取るAとBのそれぞれの合計の差を求める問題。"
   ]
  },
  {
   "cell_type": "code",
   "execution_count": 32,
   "id": "4f743357",
   "metadata": {},
   "outputs": [],
   "source": [
    "import numpy as np\n",
    "\n",
    "N = int(input())\n",
    "a_list = np.array(list(map(int,input().split())))\n"
   ]
  },
  {
   "cell_type": "markdown",
   "id": "dfa410fa",
   "metadata": {},
   "source": [
    "毎回AとBはそれぞれ最大値を取る。  \n",
    "方法１：毎回最大値を取ることをfor文やwhileで繰り返す。  \n",
    "方法２：ソートした後、後ろから前にかけて、一個飛ばしで足していったものをAの和、残ったものの総和をBの和として差を求める。"
   ]
  },
  {
   "cell_type": "code",
   "execution_count": 39,
   "id": "fed0cda5",
   "metadata": {},
   "outputs": [
    {
     "data": {
      "text/plain": [
       "array([2, 3, 4, 6])"
      ]
     },
     "execution_count": 39,
     "metadata": {},
     "output_type": "execute_result"
    }
   ],
   "source": [
    "a_list"
   ]
  },
  {
   "cell_type": "code",
   "execution_count": null,
   "id": "41f0db5e",
   "metadata": {},
   "outputs": [],
   "source": [
    "a_list.sort()"
   ]
  },
  {
   "cell_type": "code",
   "execution_count": 40,
   "id": "4106738b",
   "metadata": {},
   "outputs": [
    {
     "data": {
      "text/plain": [
       "array([2, 3, 4, 6])"
      ]
     },
     "execution_count": 40,
     "metadata": {},
     "output_type": "execute_result"
    }
   ],
   "source": [
    "a_list"
   ]
  },
  {
   "cell_type": "code",
   "execution_count": 49,
   "id": "ee9d8953",
   "metadata": {},
   "outputs": [],
   "source": [
    "# 要素数が偶数か奇数かでAがカードを取得する回数を変える\n",
    "if N%2==0:\n",
    "    A = a_list[1:N:2]\n",
    "    B = a_list[:N:2]\n",
    "else:\n",
    "    A = a_list[:N:2]\n",
    "    B = a_list[1:N:2]"
   ]
  },
  {
   "cell_type": "code",
   "execution_count": 45,
   "id": "0e98da95",
   "metadata": {},
   "outputs": [
    {
     "data": {
      "text/plain": [
       "array([3, 6])"
      ]
     },
     "execution_count": 45,
     "metadata": {},
     "output_type": "execute_result"
    }
   ],
   "source": [
    "A"
   ]
  },
  {
   "cell_type": "code",
   "execution_count": 50,
   "id": "83c06ef9",
   "metadata": {},
   "outputs": [
    {
     "data": {
      "text/plain": [
       "array([2, 4])"
      ]
     },
     "execution_count": 50,
     "metadata": {},
     "output_type": "execute_result"
    }
   ],
   "source": [
    "B"
   ]
  },
  {
   "cell_type": "code",
   "execution_count": 51,
   "id": "b8b89729",
   "metadata": {},
   "outputs": [],
   "source": [
    "A_sum = A.sum()\n",
    "B_sum = B.sum()"
   ]
  },
  {
   "cell_type": "code",
   "execution_count": 48,
   "id": "238346a0",
   "metadata": {},
   "outputs": [
    {
     "data": {
      "text/plain": [
       "np.int64(9)"
      ]
     },
     "execution_count": 48,
     "metadata": {},
     "output_type": "execute_result"
    }
   ],
   "source": [
    "A_sum"
   ]
  },
  {
   "cell_type": "code",
   "execution_count": 52,
   "id": "4a5bb1eb",
   "metadata": {},
   "outputs": [
    {
     "data": {
      "text/plain": [
       "np.int64(6)"
      ]
     },
     "execution_count": 52,
     "metadata": {},
     "output_type": "execute_result"
    }
   ],
   "source": [
    "B_sum"
   ]
  },
  {
   "cell_type": "code",
   "execution_count": 54,
   "id": "11a0a945",
   "metadata": {},
   "outputs": [
    {
     "data": {
      "text/plain": [
       "3"
      ]
     },
     "execution_count": 54,
     "metadata": {},
     "output_type": "execute_result"
    }
   ],
   "source": [
    "int(A_sum-B_sum)"
   ]
  },
  {
   "cell_type": "markdown",
   "id": "c50c7846",
   "metadata": {},
   "source": [
    "# 自分の解答"
   ]
  },
  {
   "cell_type": "code",
   "execution_count": null,
   "id": "3b9cc4d7",
   "metadata": {},
   "outputs": [],
   "source": [
    "import numpy as np\n",
    "\n",
    "N = int(input())\n",
    "a_list = np.array(list(map(int,input().split())))\n",
    "\n",
    "#ソートすることで取得順とindexを連携させる\n",
    "a_list.sort()\n",
    "\n",
    "# 要素数が偶数か奇数かでAがカードを取得する回数を変える\n",
    "if N%2==0:\n",
    "    A = a_list[1:N:2]\n",
    "    B = a_list[:N:2]\n",
    "else:\n",
    "    A = a_list[:N:2]\n",
    "    B = a_list[1:N:2]\n",
    "\n",
    "print(int(A.sum()-B.sum()))"
   ]
  }
 ],
 "metadata": {
  "kernelspec": {
   "display_name": "Python (myenv-arm)",
   "language": "python",
   "name": "myenv-arm"
  },
  "language_info": {
   "codemirror_mode": {
    "name": "ipython",
    "version": 3
   },
   "file_extension": ".py",
   "mimetype": "text/x-python",
   "name": "python",
   "nbconvert_exporter": "python",
   "pygments_lexer": "ipython3",
   "version": "3.11.9"
  }
 },
 "nbformat": 4,
 "nbformat_minor": 5
}
