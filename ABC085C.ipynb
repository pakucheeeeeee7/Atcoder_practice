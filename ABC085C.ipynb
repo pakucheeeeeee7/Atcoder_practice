{
 "cells": [
  {
   "cell_type": "markdown",
   "id": "c80d5f54",
   "metadata": {},
   "source": [
    "# 問題の概要\n",
    "与えられた条件を満たす０以上の整数x,y,zがあればそれを出力する。"
   ]
  },
  {
   "cell_type": "code",
   "execution_count": null,
   "id": "81166952",
   "metadata": {},
   "outputs": [
    {
     "name": "stdout",
     "output_type": "stream",
     "text": [
      "N: 20\n",
      "Y: 20000\n"
     ]
    }
   ],
   "source": [
    "# 入力を得るコード\n",
    "N, Y = map(int, input().split())\n",
    "print('N:',N)\n",
    "print('Y:',Y)"
   ]
  },
  {
   "cell_type": "code",
   "execution_count": null,
   "id": "28406d6d",
   "metadata": {},
   "outputs": [
    {
     "name": "stdout",
     "output_type": "stream",
     "text": [
      "1 2 3\n"
     ]
    }
   ],
   "source": [
    "# 出力部分のコード\n",
    "x = 1\n",
    "y = 2\n",
    "z = 3\n",
    "print(f'{x} {y} {z}')"
   ]
  },
  {
   "cell_type": "markdown",
   "id": "d1534019",
   "metadata": {},
   "source": [
    "# アルゴリズム\n",
    "xは10000円札の枚数、yは5000円札の枚数、zは1000円札の枚数とする\n",
    "1. xの最大値x_maxを求める（xは0~x_maxと定まる）\n",
    "2. 条件式を変形させた以下の２式によってそれを満たす(x,y,z)の組を求める。\n",
    "    式１：z = N-x-y  \n",
    "    式２：9000x+4000y=Y-1000N\n",
    "3. 全てのxについて(x,y,z)の組が見つからなかったら(-1,-1,-1)を返す。見つかればそれを返す。"
   ]
  },
  {
   "cell_type": "code",
   "execution_count": 13,
   "id": "dad03e89",
   "metadata": {},
   "outputs": [],
   "source": [
    "x_max=0\n",
    "while Y > 10000*x_max:\n",
    "    x_max+=1"
   ]
  },
  {
   "cell_type": "code",
   "execution_count": 14,
   "id": "73e2cf16",
   "metadata": {},
   "outputs": [],
   "source": [
    "y_max=0\n",
    "while Y > 5000*y_max:\n",
    "    y_max+=1"
   ]
  },
  {
   "cell_type": "code",
   "execution_count": 15,
   "id": "bcf8a70c",
   "metadata": {},
   "outputs": [],
   "source": [
    "z_max=0\n",
    "while Y > 1000*z_max:\n",
    "    z_max+=1"
   ]
  },
  {
   "cell_type": "code",
   "execution_count": 17,
   "id": "5a1903b0",
   "metadata": {},
   "outputs": [
    {
     "name": "stdout",
     "output_type": "stream",
     "text": [
      "-1 -1 -1\n"
     ]
    }
   ],
   "source": [
    "x_y_z_list = []\n",
    "for x in range(x_max+1):\n",
    "    for y in range(y_max+1):\n",
    "        if 9000*x + 4000*y == Y - 1000*N:\n",
    "            z = N-x-y\n",
    "            if z < z_max:\n",
    "                x_y_z_list.append((x,y,z))\n",
    "                print(f'{x} {y} {z}')\n",
    "                break\n",
    "        if len(x_y_z_list)!=0:\n",
    "            break\n",
    "    if len(x_y_z_list)!=0:\n",
    "        break\n",
    "\n",
    "if len(x_y_z_list)==0:\n",
    "    print('-1 -1 -1')\n",
    "\n"
   ]
  },
  {
   "cell_type": "markdown",
   "id": "7c97022b",
   "metadata": {},
   "source": [
    "# 自分の解答"
   ]
  },
  {
   "cell_type": "code",
   "execution_count": null,
   "id": "fd25bd6e",
   "metadata": {},
   "outputs": [
    {
     "name": "stdout",
     "output_type": "stream",
     "text": [
      "N: 2000\n",
      "Y: 20000000\n",
      "2000 0 0\n"
     ]
    }
   ],
   "source": [
    "# 入力を得るコード\n",
    "N, Y = map(int, input().split())\n",
    "\n",
    "# 最大値の取得\n",
    "x_max=0\n",
    "while Y > 10000*x_max:\n",
    "    x_max+=1\n",
    "y_max=0\n",
    "while Y > 5000*y_max:\n",
    "    y_max+=1\n",
    "z_max=0\n",
    "while Y > 1000*z_max:\n",
    "    z_max+=1\n",
    "\n",
    "# 判定\n",
    "x_y_z_list = []\n",
    "for x in range(x_max+1):\n",
    "    for y in range(y_max+1):\n",
    "        if 9000*x + 4000*y == Y - 1000*N:\n",
    "            z = N-x-y\n",
    "            if 0 <= z <= z_max:\n",
    "                x_y_z_list.append((x,y,z))\n",
    "                print(f'{x} {y} {z}')\n",
    "                break\n",
    "        if len(x_y_z_list)!=0:\n",
    "            break\n",
    "    if len(x_y_z_list)!=0:\n",
    "        break\n",
    "\n",
    "if len(x_y_z_list)==0:\n",
    "    print('-1 -1 -1')"
   ]
  },
  {
   "cell_type": "code",
   "execution_count": null,
   "id": "411acc1d",
   "metadata": {},
   "outputs": [],
   "source": []
  }
 ],
 "metadata": {
  "kernelspec": {
   "display_name": "Python (myenv-arm)",
   "language": "python",
   "name": "myenv-arm"
  },
  "language_info": {
   "codemirror_mode": {
    "name": "ipython",
    "version": 3
   },
   "file_extension": ".py",
   "mimetype": "text/x-python",
   "name": "python",
   "nbconvert_exporter": "python",
   "pygments_lexer": "ipython3",
   "version": "3.11.9"
  }
 },
 "nbformat": 4,
 "nbformat_minor": 5
}
