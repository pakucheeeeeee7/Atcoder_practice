{
 "cells": [
  {
   "cell_type": "markdown",
   "id": "f0d335c8",
   "metadata": {},
   "source": [
    "# 問題の概要\n",
    "与えられた配列の中で重複のない要素の個数を出力する"
   ]
  },
  {
   "cell_type": "code",
   "execution_count": 1,
   "id": "eb081099",
   "metadata": {},
   "outputs": [],
   "source": [
    "N = int(input())\n",
    "d_list = []\n",
    "for i in range(N):\n",
    "    d_list.append(int(input()))"
   ]
  },
  {
   "cell_type": "code",
   "execution_count": 2,
   "id": "fc62ddc5",
   "metadata": {},
   "outputs": [
    {
     "data": {
      "text/plain": [
       "[3, 4, 5, 6, 2]"
      ]
     },
     "execution_count": 2,
     "metadata": {},
     "output_type": "execute_result"
    }
   ],
   "source": [
    "d_list"
   ]
  },
  {
   "cell_type": "markdown",
   "id": "c034138e",
   "metadata": {},
   "source": [
    "# アルゴリズム\n",
    "重複のないようにリストを作れば、そのリストの要素数が鏡餅の最大の段数。\n",
    "1. d_listをset型にしたd_setを作成（set型は重複を許さないデータ形式）\n",
    "2. d_setの要素数を出力"
   ]
  },
  {
   "cell_type": "code",
   "execution_count": 8,
   "id": "265ad55d",
   "metadata": {},
   "outputs": [],
   "source": [
    "d_set = set(d_list)"
   ]
  },
  {
   "cell_type": "code",
   "execution_count": 9,
   "id": "99bdf765",
   "metadata": {},
   "outputs": [
    {
     "data": {
      "text/plain": [
       "5"
      ]
     },
     "execution_count": 9,
     "metadata": {},
     "output_type": "execute_result"
    }
   ],
   "source": [
    "len(d_set)"
   ]
  },
  {
   "cell_type": "markdown",
   "id": "c1ef038d",
   "metadata": {},
   "source": [
    "# 自分の解答"
   ]
  },
  {
   "cell_type": "code",
   "execution_count": null,
   "id": "b21351f3",
   "metadata": {},
   "outputs": [],
   "source": [
    "# 標準入力の受け取り\n",
    "N = int(input())\n",
    "d_list = []\n",
    "for i in range(N):\n",
    "    d_list.append(int(input()))\n",
    "\n",
    "\n",
    "# 重複を許さないset型に変えて、出力\n",
    "d_set = set(d_list)\n",
    "print(len(d_set))"
   ]
  }
 ],
 "metadata": {
  "kernelspec": {
   "display_name": "Python (myenv-arm)",
   "language": "python",
   "name": "myenv-arm"
  },
  "language_info": {
   "codemirror_mode": {
    "name": "ipython",
    "version": 3
   },
   "file_extension": ".py",
   "mimetype": "text/x-python",
   "name": "python",
   "nbconvert_exporter": "python",
   "pygments_lexer": "ipython3",
   "version": "3.11.9"
  }
 },
 "nbformat": 4,
 "nbformat_minor": 5
}
